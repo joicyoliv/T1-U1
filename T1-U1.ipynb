{
 "cells": [
  {
   "cell_type": "markdown",
   "metadata": {},
   "source": [
    "## Unidade 01 - Atividade Extra\n",
    "\n",
    "- **Aluno**: Joicy Daliane Silva Oliveira\n",
    "- **Matrícula**: 2016046167"
   ]
  },
  {
   "cell_type": "markdown",
   "metadata": {},
   "source": [
    "## Base de dados\n",
    "\n",
    "Nessa avaliação será utilizado a base de dados referente aos concursos da Mega-Sena. \n",
    "\n",
    "A **Mega-Sena** tem sido a maior modalidade lotérica do Brasil, sendo uma entre as dez modalidades atuais das loterias da Caixa (Caixa Econômica Federal), com sorteios ordinários duas vezes por semana, além da Mega-Sena da Virada.\n",
    "\n",
    "Para ganhar o **prêmio máximo da Mega-Sena** — **a sena** — , é necessário acertar a sena, o que significa obter coincidência entre **seis dos números** apostados e os seis números sorteados, de um total de sessenta dezenas (**de 01 a 60**), independentemente da ordem da aposta ou da ordem do sorteio. \n",
    "\n",
    "O concurso prevê também a chance de se ganhar parte do prêmio máximo, pelo acerto da **quina** (apenas cinco dos números sorteados), ou da **quadra** (apenas quatro dos números sorteados), com prêmios significativamente menores que aquele que seria pago na ocorrência do acerto da sena, o da quina maior que o da quadra. "
   ]
  },
  {
   "cell_type": "markdown",
   "metadata": {},
   "source": [
    "## Cenário\n",
    "Imagem que vocês foram selecionados para uma entrevista de emprego para o cargo de Cientista de Dados de uma grande empresa multinacional. A seleção será baseada em vários critérios, destacando as seguintes habilidades: resolução de problemas, criatividade, interpretação, escrita, organização, inovação, proeficiência em pandas, análise exploratória de dados e storytelling. Foi passado para vocês o dataset contendo todos os resultados da Megasena, o desafio consiste em interpretar esses dados e criar um significado de entendimento conciso e claro.\n",
    "\n"
   ]
  },
  {
   "cell_type": "code",
   "execution_count": 120,
   "metadata": {
    "scrolled": true
   },
   "outputs": [
    {
     "name": "stdout",
     "output_type": "stream",
     "text": [
      "['MegaSena']\n"
     ]
    },
    {
     "data": {
      "text/html": [
       "<div>\n",
       "<style scoped>\n",
       "    .dataframe tbody tr th:only-of-type {\n",
       "        vertical-align: middle;\n",
       "    }\n",
       "\n",
       "    .dataframe tbody tr th {\n",
       "        vertical-align: top;\n",
       "    }\n",
       "\n",
       "    .dataframe thead th {\n",
       "        text-align: right;\n",
       "    }\n",
       "</style>\n",
       "<table border=\"1\" class=\"dataframe\">\n",
       "  <thead>\n",
       "    <tr style=\"text-align: right;\">\n",
       "      <th></th>\n",
       "      <th>Concurso</th>\n",
       "      <th>Data Sorteio</th>\n",
       "      <th>Dezena1</th>\n",
       "      <th>Dezena2</th>\n",
       "      <th>Dezena3</th>\n",
       "      <th>Dezena4</th>\n",
       "      <th>Dezena5</th>\n",
       "      <th>Dezena6</th>\n",
       "      <th>Arrecadacao_Total</th>\n",
       "      <th>Ganhadores_Sena</th>\n",
       "      <th>Rateio_Sena</th>\n",
       "      <th>Ganhadores_Quina</th>\n",
       "      <th>Rateio_Quina</th>\n",
       "      <th>Ganhadores_Quadra</th>\n",
       "      <th>Rateio_Quadra</th>\n",
       "      <th>Acumulado</th>\n",
       "      <th>Valor_Acumulado</th>\n",
       "      <th>Estimativa_Prêmio</th>\n",
       "    </tr>\n",
       "  </thead>\n",
       "  <tbody>\n",
       "    <tr>\n",
       "      <th>0</th>\n",
       "      <td>1</td>\n",
       "      <td>1996-03-11</td>\n",
       "      <td>41</td>\n",
       "      <td>5</td>\n",
       "      <td>4</td>\n",
       "      <td>52</td>\n",
       "      <td>30</td>\n",
       "      <td>33</td>\n",
       "      <td>0.0</td>\n",
       "      <td>0</td>\n",
       "      <td>0.00</td>\n",
       "      <td>17</td>\n",
       "      <td>39158.92</td>\n",
       "      <td>2016</td>\n",
       "      <td>330.21</td>\n",
       "      <td>SIM</td>\n",
       "      <td>1714650.23</td>\n",
       "      <td>0</td>\n",
       "    </tr>\n",
       "    <tr>\n",
       "      <th>1</th>\n",
       "      <td>2</td>\n",
       "      <td>1996-03-18</td>\n",
       "      <td>9</td>\n",
       "      <td>39</td>\n",
       "      <td>37</td>\n",
       "      <td>49</td>\n",
       "      <td>43</td>\n",
       "      <td>41</td>\n",
       "      <td>0.0</td>\n",
       "      <td>1</td>\n",
       "      <td>2307162.23</td>\n",
       "      <td>65</td>\n",
       "      <td>14424.02</td>\n",
       "      <td>4488</td>\n",
       "      <td>208.91</td>\n",
       "      <td>NÃO</td>\n",
       "      <td>0.00</td>\n",
       "      <td>0</td>\n",
       "    </tr>\n",
       "    <tr>\n",
       "      <th>2</th>\n",
       "      <td>3</td>\n",
       "      <td>1996-03-25</td>\n",
       "      <td>36</td>\n",
       "      <td>30</td>\n",
       "      <td>10</td>\n",
       "      <td>11</td>\n",
       "      <td>29</td>\n",
       "      <td>47</td>\n",
       "      <td>0.0</td>\n",
       "      <td>2</td>\n",
       "      <td>391192.51</td>\n",
       "      <td>62</td>\n",
       "      <td>10515.93</td>\n",
       "      <td>4261</td>\n",
       "      <td>153.01</td>\n",
       "      <td>NÃO</td>\n",
       "      <td>0.00</td>\n",
       "      <td>0</td>\n",
       "    </tr>\n",
       "    <tr>\n",
       "      <th>3</th>\n",
       "      <td>4</td>\n",
       "      <td>1996-04-01</td>\n",
       "      <td>6</td>\n",
       "      <td>59</td>\n",
       "      <td>42</td>\n",
       "      <td>27</td>\n",
       "      <td>1</td>\n",
       "      <td>5</td>\n",
       "      <td>0.0</td>\n",
       "      <td>0</td>\n",
       "      <td>0.00</td>\n",
       "      <td>39</td>\n",
       "      <td>15322.24</td>\n",
       "      <td>3311</td>\n",
       "      <td>180.48</td>\n",
       "      <td>SIM</td>\n",
       "      <td>717080.75</td>\n",
       "      <td>0</td>\n",
       "    </tr>\n",
       "    <tr>\n",
       "      <th>4</th>\n",
       "      <td>5</td>\n",
       "      <td>1996-04-08</td>\n",
       "      <td>1</td>\n",
       "      <td>19</td>\n",
       "      <td>46</td>\n",
       "      <td>6</td>\n",
       "      <td>16</td>\n",
       "      <td>2</td>\n",
       "      <td>0.0</td>\n",
       "      <td>0</td>\n",
       "      <td>0.00</td>\n",
       "      <td>98</td>\n",
       "      <td>5318.10</td>\n",
       "      <td>5399</td>\n",
       "      <td>96.53</td>\n",
       "      <td>SIM</td>\n",
       "      <td>1342488.85</td>\n",
       "      <td>0</td>\n",
       "    </tr>\n",
       "  </tbody>\n",
       "</table>\n",
       "</div>"
      ],
      "text/plain": [
       "   Concurso Data Sorteio  Dezena1  Dezena2  Dezena3  Dezena4  Dezena5  \\\n",
       "0         1   1996-03-11       41        5        4       52       30   \n",
       "1         2   1996-03-18        9       39       37       49       43   \n",
       "2         3   1996-03-25       36       30       10       11       29   \n",
       "3         4   1996-04-01        6       59       42       27        1   \n",
       "4         5   1996-04-08        1       19       46        6       16   \n",
       "\n",
       "   Dezena6  Arrecadacao_Total  Ganhadores_Sena  Rateio_Sena  Ganhadores_Quina  \\\n",
       "0       33                0.0                0         0.00                17   \n",
       "1       41                0.0                1   2307162.23                65   \n",
       "2       47                0.0                2    391192.51                62   \n",
       "3        5                0.0                0         0.00                39   \n",
       "4        2                0.0                0         0.00                98   \n",
       "\n",
       "   Rateio_Quina  Ganhadores_Quadra  Rateio_Quadra Acumulado  Valor_Acumulado  \\\n",
       "0      39158.92               2016         330.21       SIM       1714650.23   \n",
       "1      14424.02               4488         208.91       NÃO             0.00   \n",
       "2      10515.93               4261         153.01       NÃO             0.00   \n",
       "3      15322.24               3311         180.48       SIM        717080.75   \n",
       "4       5318.10               5399          96.53       SIM       1342488.85   \n",
       "\n",
       "   Estimativa_Prêmio  \n",
       "0                  0  \n",
       "1                  0  \n",
       "2                  0  \n",
       "3                  0  \n",
       "4                  0  "
      ]
     },
     "execution_count": 120,
     "metadata": {},
     "output_type": "execute_result"
    }
   ],
   "source": [
    "# Importar as bibliotecas necessárias\n",
    "import pandas as pd\n",
    "import matplotlib.pyplot as plt\n",
    "\n",
    "# Atribuir o nome da planilha para a variável \"arquivo\"\n",
    "arquivo = 'basedados.xlsx'\n",
    "\n",
    "# Carregar a base de dados para um objeto pandas.io.excel.ExcelFile\n",
    "excel = pd.ExcelFile(arquivo)\n",
    "\n",
    "# Imprimir o nome das planilhas\n",
    "print(excel.sheet_names)\n",
    "\n",
    "# Carregar a planilha excel para um objeto dataframe\n",
    "dados = excel.parse(0)\n",
    "\n",
    "# Imprimir as cinco primeiras linhas do dataframe\n",
    "dados.head()"
   ]
  },
  {
   "cell_type": "code",
   "execution_count": 123,
   "metadata": {
    "scrolled": true
   },
   "outputs": [
    {
     "data": {
      "image/png": "[encoded data removed]",
      "text/plain": [
       "<matplotlib.figure.Figure at 0x9556ac8>"
      ]
     },
     "metadata": {},
     "output_type": "display_data"
    },
    {
     "data": {
      "image/png": "[encoded data removed]",
      "text/plain": [
       "<matplotlib.figure.Figure at 0xc304518>"
      ]
     },
     "metadata": {},
     "output_type": "display_data"
    }
   ],
   "source": [
    "#Gráfico 1 : Utilizaremos os valores de arrecadação como eixo Y e os anos como eixo X.\n",
    "plt.figure(figsize=(8,3))\n",
    "plt.plot( dados[\"Data Sorteio\"], dados[\"Arrecadacao_Total\"])\n",
    "plt.xlabel(\"Anos\")\n",
    "plt.ylabel(\"Arrecadação\")\n",
    "plt.title(\"Arrecadação em Centenas de Milhões\")\n",
    "plt.show()\n",
    "\n",
    "#Gráfico 2 : Utilizaremos os valores de premiação como eixo Y e os anos como eixo X.\n",
    "\n",
    "#Calculando o premio total \n",
    "dados[\"Premios\"] = dados[\"Ganhadores_Sena\"] * dados[\"Rateio_Sena\"] + dados[\"Ganhadores_Quina\"] * dados[\"Rateio_Quina\"] + dados[\"Ganhadores_Quadra\"] * dados[\"Rateio_Quadra\"]\n",
    "#Utilizaremos os valores como eixo Y e os anos como eixo X.\n",
    "plt.figure(figsize=(8,3))\n",
    "plt.plot( dados[\"Data Sorteio\"], dados[\"Premios\"])\n",
    "plt.xlabel(\"Anos\")\n",
    "plt.ylabel(\"Premiação\")\n",
    "plt.title(\"Premiação em Centenas de Milhões\")\n",
    "plt.show()"
   ]
  },
  {
   "cell_type": "markdown",
   "metadata": {},
   "source": [
    "Com esses dois gráficos, podemos concluir que a Mega Sena arrecada valores gigantescos, como por exemplo, no final de 2015 a Mega arrecadou quase RS2.9 bilhões. E deu pouco mais de RS1.1 bilhão em prêmios."
   ]
  },
  {
   "cell_type": "code",
   "execution_count": 152,
   "metadata": {},
   "outputs": [
    {
     "data": {
      "text/html": [
       "<div>\n",
       "<style scoped>\n",
       "    .dataframe tbody tr th:only-of-type {\n",
       "        vertical-align: middle;\n",
       "    }\n",
       "\n",
       "    .dataframe tbody tr th {\n",
       "        vertical-align: top;\n",
       "    }\n",
       "\n",
       "    .dataframe thead th {\n",
       "        text-align: right;\n",
       "    }\n",
       "</style>\n",
       "<table border=\"1\" class=\"dataframe\">\n",
       "  <thead>\n",
       "    <tr style=\"text-align: right;\">\n",
       "      <th></th>\n",
       "      <th>Acumulado</th>\n",
       "    </tr>\n",
       "  </thead>\n",
       "  <tbody>\n",
       "    <tr>\n",
       "      <th>SIM</th>\n",
       "      <td>2.439561</td>\n",
       "    </tr>\n",
       "    <tr>\n",
       "      <th>NÃO</th>\n",
       "      <td>2.994548</td>\n",
       "    </tr>\n",
       "  </tbody>\n",
       "</table>\n",
       "</div>"
      ],
      "text/plain": [
       "     Acumulado\n",
       "SIM   2.439561\n",
       "NÃO   2.994548"
      ]
     },
     "execution_count": 152,
     "metadata": {},
     "output_type": "execute_result"
    }
   ],
   "source": [
    "Contador_Acumulado = dados[['Acumulado']]\n",
    "Contador_Acumulado"
   ]
  },
  {
   "cell_type": "code",
   "execution_count": 153,
   "metadata": {
    "scrolled": true
   },
   "outputs": [
    {
     "data": {
      "text/plain": [
       "<matplotlib.axes._subplots.AxesSubplot at 0xdc403c8>"
      ]
     },
     "execution_count": 153,
     "metadata": {},
     "output_type": "execute_result"
    },
    {
     "data": {
      "image/png": "[encoded data removed]",
      "text/plain": [
       "<matplotlib.figure.Figure at 0xdc7c390>"
      ]
     },
     "metadata": {},
     "output_type": "display_data"
    }
   ],
   "source": [
    "#Gerando grádico de pizza\n",
    "dados.plot.pie(y='Acumulado')"
   ]
  },
  {
   "cell_type": "markdown",
   "metadata": {},
   "source": [
    "Com esse gráfico, podemos observar que a diferença entre a quantidade de concursos acumulados e não acumulados é pequena."
   ]
  }
 ],
 "metadata": {
  "kernelspec": {
   "display_name": "Python 3",
   "language": "python",
   "name": "python3"
  },
  "language_info": {
   "codemirror_mode": {
    "name": "ipython",
    "version": 3
   },
   "file_extension": ".py",
   "mimetype": "text/x-python",
   "name": "python",
   "nbconvert_exporter": "python",
   "pygments_lexer": "ipython3",
   "version": "3.6.4"
  }
 },
 "nbformat": 4,
 "nbformat_minor": 2
}
